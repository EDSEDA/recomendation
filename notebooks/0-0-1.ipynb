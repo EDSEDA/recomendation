{
 "cells": [
  {
   "cell_type": "markdown",
   "metadata": {},
   "source": [
    "# First version of recommendation model\n",
    "\n",
    "### Links\n",
    "\n",
    "Tutorial: [link](https://www.stepbystepdatascience.com/hybrid-recommender-lightfm-python)\n",
    "\n",
    "Dataset: [instacart-market-basket-analysis](https://www.kaggle.com/datasets/psparks/instacart-market-basket-analysis)\n",
    "\n",
    "### Prerequisites\n",
    "\n",
    "Download dataset and place files in folder: ../data/instacart-market-basket-analysis"
   ]
  },
  {
   "cell_type": "code",
   "metadata": {
    "ExecuteTime": {
     "end_time": "2024-04-20T20:58:59.574883Z",
     "start_time": "2024-04-20T20:58:59.572953Z"
    }
   },
   "source": [
    "# %pip install --upgrade pip setuptools wheel\n",
    "# %pip install numpy pandas scikit-learn optuna nbformat\n",
    "# %pip install --no-use-pep517 lightfm # https://github.com/lyst/lightfm/issues/687#issuecomment-1523956355\n",
    "# ! pip install ipywidgets --upgrade\n"
   ],
   "outputs": [],
   "execution_count": 1
  },
  {
   "cell_type": "code",
   "metadata": {
    "ExecuteTime": {
     "end_time": "2024-04-20T20:59:00.642512Z",
     "start_time": "2024-04-20T20:58:59.575651Z"
    }
   },
   "source": [
    "import pickle\n",
    "import sys\n",
    "from os import path\n",
    "\n",
    "import numpy as np\n",
    "import pandas as pd\n",
    "import optuna\n",
    "import sklearn\n",
    "\n",
    "from lightfm import LightFM\n",
    "from lightfm.data import Dataset\n",
    "from lightfm.evaluation import precision_at_k, recall_at_k\n",
    "from lightfm.cross_validation import random_train_test_split\n",
    "\n",
    "sys.path.insert(0, '..') # важно чтобы работали импорты из корня репозитория как в инференсе\n",
    "sklearn.show_versions()"
   ],
   "outputs": [
    {
     "name": "stdout",
     "output_type": "stream",
     "text": [
      "\n",
      "System:\n",
      "    python: 3.10.12 (main, Nov 20 2023, 15:14:05) [GCC 11.4.0]\n",
      "executable: /home/vorkov/Workspace/recommendation/.venv/bin/python\n",
      "   machine: Linux-6.5.0-21-generic-x86_64-with-glibc2.35\n",
      "\n",
      "Python dependencies:\n",
      "      sklearn: 1.4.1.post1\n",
      "          pip: 24.0\n",
      "   setuptools: 69.5.1\n",
      "        numpy: 1.26.4\n",
      "        scipy: 1.12.0\n",
      "       Cython: None\n",
      "       pandas: 2.2.2\n",
      "   matplotlib: None\n",
      "       joblib: 1.3.2\n",
      "threadpoolctl: 3.4.0\n",
      "\n",
      "Built with OpenMP: True\n",
      "\n",
      "threadpoolctl info:\n",
      "       user_api: blas\n",
      "   internal_api: openblas\n",
      "    num_threads: 16\n",
      "         prefix: libopenblas\n",
      "       filepath: /home/vorkov/Workspace/recommendation/.venv/lib/python3.10/site-packages/numpy.libs/libopenblas64_p-r0-0cf96a72.3.23.dev.so\n",
      "        version: 0.3.23.dev\n",
      "threading_layer: pthreads\n",
      "   architecture: Cooperlake\n",
      "\n",
      "       user_api: openmp\n",
      "   internal_api: openmp\n",
      "    num_threads: 16\n",
      "         prefix: libgomp\n",
      "       filepath: /home/vorkov/Workspace/recommendation/.venv/lib/python3.10/site-packages/scikit_learn.libs/libgomp-a34b3233.so.1.0.0\n",
      "        version: None\n",
      "\n",
      "       user_api: blas\n",
      "   internal_api: openblas\n",
      "    num_threads: 16\n",
      "         prefix: libopenblas\n",
      "       filepath: /home/vorkov/Workspace/recommendation/.venv/lib/python3.10/site-packages/scipy.libs/libopenblasp-r0-23e5df77.3.21.dev.so\n",
      "        version: 0.3.21.dev\n",
      "threading_layer: pthreads\n",
      "   architecture: Cooperlake\n",
      "\n",
      "       user_api: openmp\n",
      "   internal_api: openmp\n",
      "    num_threads: 16\n",
      "         prefix: libgomp\n",
      "       filepath: /usr/lib/x86_64-linux-gnu/libgomp.so.1.0.0\n",
      "        version: None\n"
     ]
    }
   ],
   "execution_count": 2
  },
  {
   "cell_type": "code",
   "metadata": {
    "ExecuteTime": {
     "end_time": "2024-04-20T20:59:09.176101Z",
     "start_time": "2024-04-20T20:59:00.643532Z"
    }
   },
   "source": [
    "data_path = '../data'\n",
    "dataset_path = path.join(data_path, 'instacart-market-basket-analysis')\n",
    "\n",
    "# Маппинг user_id <-> order_id\n",
    "raw_orders = pd.read_csv(path.join(dataset_path, 'orders.csv'))\n",
    "\n",
    "# Продукты\n",
    "raw_products = pd.read_csv(path.join(dataset_path, 'products.csv'))\n",
    "\n",
    "# Маппинг order_id -> product_id\n",
    "raw_order_products = pd.concat([pd.read_csv(path.join(dataset_path, 'order_products__prior.csv')),\n",
    "                            pd.read_csv(path.join(dataset_path, 'order_products__train.csv'))])\n",
    "\n",
    "# Фичи продуктов\n",
    "aisles = pd.read_csv(path.join(dataset_path, 'aisles.csv'))\n",
    "departments = pd.read_csv(path.join(dataset_path, 'departments.csv'))\n",
    "\n",
    "# Чеки\n",
    "raw_orders[(raw_orders[\"user_id\"]==1)].sort_values([\"order_number\"])"
   ],
   "outputs": [
    {
     "data": {
      "text/plain": [
       "    order_id  user_id eval_set  order_number  order_dow  order_hour_of_day  \\\n",
       "0    2539329        1    prior             1          2                  8   \n",
       "1    2398795        1    prior             2          3                  7   \n",
       "2     473747        1    prior             3          3                 12   \n",
       "3    2254736        1    prior             4          4                  7   \n",
       "4     431534        1    prior             5          4                 15   \n",
       "5    3367565        1    prior             6          2                  7   \n",
       "6     550135        1    prior             7          1                  9   \n",
       "7    3108588        1    prior             8          1                 14   \n",
       "8    2295261        1    prior             9          1                 16   \n",
       "9    2550362        1    prior            10          4                  8   \n",
       "10   1187899        1    train            11          4                  8   \n",
       "\n",
       "    days_since_prior_order  \n",
       "0                      NaN  \n",
       "1                     15.0  \n",
       "2                     21.0  \n",
       "3                     29.0  \n",
       "4                     28.0  \n",
       "5                     19.0  \n",
       "6                     20.0  \n",
       "7                     14.0  \n",
       "8                      0.0  \n",
       "9                     30.0  \n",
       "10                    14.0  "
      ],
      "text/html": [
       "<div>\n",
       "<style scoped>\n",
       "    .dataframe tbody tr th:only-of-type {\n",
       "        vertical-align: middle;\n",
       "    }\n",
       "\n",
       "    .dataframe tbody tr th {\n",
       "        vertical-align: top;\n",
       "    }\n",
       "\n",
       "    .dataframe thead th {\n",
       "        text-align: right;\n",
       "    }\n",
       "</style>\n",
       "<table border=\"1\" class=\"dataframe\">\n",
       "  <thead>\n",
       "    <tr style=\"text-align: right;\">\n",
       "      <th></th>\n",
       "      <th>order_id</th>\n",
       "      <th>user_id</th>\n",
       "      <th>eval_set</th>\n",
       "      <th>order_number</th>\n",
       "      <th>order_dow</th>\n",
       "      <th>order_hour_of_day</th>\n",
       "      <th>days_since_prior_order</th>\n",
       "    </tr>\n",
       "  </thead>\n",
       "  <tbody>\n",
       "    <tr>\n",
       "      <th>0</th>\n",
       "      <td>2539329</td>\n",
       "      <td>1</td>\n",
       "      <td>prior</td>\n",
       "      <td>1</td>\n",
       "      <td>2</td>\n",
       "      <td>8</td>\n",
       "      <td>NaN</td>\n",
       "    </tr>\n",
       "    <tr>\n",
       "      <th>1</th>\n",
       "      <td>2398795</td>\n",
       "      <td>1</td>\n",
       "      <td>prior</td>\n",
       "      <td>2</td>\n",
       "      <td>3</td>\n",
       "      <td>7</td>\n",
       "      <td>15.0</td>\n",
       "    </tr>\n",
       "    <tr>\n",
       "      <th>2</th>\n",
       "      <td>473747</td>\n",
       "      <td>1</td>\n",
       "      <td>prior</td>\n",
       "      <td>3</td>\n",
       "      <td>3</td>\n",
       "      <td>12</td>\n",
       "      <td>21.0</td>\n",
       "    </tr>\n",
       "    <tr>\n",
       "      <th>3</th>\n",
       "      <td>2254736</td>\n",
       "      <td>1</td>\n",
       "      <td>prior</td>\n",
       "      <td>4</td>\n",
       "      <td>4</td>\n",
       "      <td>7</td>\n",
       "      <td>29.0</td>\n",
       "    </tr>\n",
       "    <tr>\n",
       "      <th>4</th>\n",
       "      <td>431534</td>\n",
       "      <td>1</td>\n",
       "      <td>prior</td>\n",
       "      <td>5</td>\n",
       "      <td>4</td>\n",
       "      <td>15</td>\n",
       "      <td>28.0</td>\n",
       "    </tr>\n",
       "    <tr>\n",
       "      <th>5</th>\n",
       "      <td>3367565</td>\n",
       "      <td>1</td>\n",
       "      <td>prior</td>\n",
       "      <td>6</td>\n",
       "      <td>2</td>\n",
       "      <td>7</td>\n",
       "      <td>19.0</td>\n",
       "    </tr>\n",
       "    <tr>\n",
       "      <th>6</th>\n",
       "      <td>550135</td>\n",
       "      <td>1</td>\n",
       "      <td>prior</td>\n",
       "      <td>7</td>\n",
       "      <td>1</td>\n",
       "      <td>9</td>\n",
       "      <td>20.0</td>\n",
       "    </tr>\n",
       "    <tr>\n",
       "      <th>7</th>\n",
       "      <td>3108588</td>\n",
       "      <td>1</td>\n",
       "      <td>prior</td>\n",
       "      <td>8</td>\n",
       "      <td>1</td>\n",
       "      <td>14</td>\n",
       "      <td>14.0</td>\n",
       "    </tr>\n",
       "    <tr>\n",
       "      <th>8</th>\n",
       "      <td>2295261</td>\n",
       "      <td>1</td>\n",
       "      <td>prior</td>\n",
       "      <td>9</td>\n",
       "      <td>1</td>\n",
       "      <td>16</td>\n",
       "      <td>0.0</td>\n",
       "    </tr>\n",
       "    <tr>\n",
       "      <th>9</th>\n",
       "      <td>2550362</td>\n",
       "      <td>1</td>\n",
       "      <td>prior</td>\n",
       "      <td>10</td>\n",
       "      <td>4</td>\n",
       "      <td>8</td>\n",
       "      <td>30.0</td>\n",
       "    </tr>\n",
       "    <tr>\n",
       "      <th>10</th>\n",
       "      <td>1187899</td>\n",
       "      <td>1</td>\n",
       "      <td>train</td>\n",
       "      <td>11</td>\n",
       "      <td>4</td>\n",
       "      <td>8</td>\n",
       "      <td>14.0</td>\n",
       "    </tr>\n",
       "  </tbody>\n",
       "</table>\n",
       "</div>"
      ]
     },
     "execution_count": 3,
     "metadata": {},
     "output_type": "execute_result"
    }
   ],
   "execution_count": 3
  },
  {
   "cell_type": "code",
   "metadata": {
    "ExecuteTime": {
     "end_time": "2024-04-20T20:59:09.190677Z",
     "start_time": "2024-04-20T20:59:09.176670Z"
    }
   },
   "source": [
    "# Количество юзеров\n",
    "raw_orders['user_id'].unique().size"
   ],
   "outputs": [
    {
     "data": {
      "text/plain": [
       "206209"
      ]
     },
     "execution_count": 4,
     "metadata": {},
     "output_type": "execute_result"
    }
   ],
   "execution_count": 4
  },
  {
   "cell_type": "code",
   "metadata": {
    "ExecuteTime": {
     "end_time": "2024-04-20T20:59:09.196338Z",
     "start_time": "2024-04-20T20:59:09.191573Z"
    }
   },
   "source": [
    "# Айтемы\n",
    "raw_products"
   ],
   "outputs": [
    {
     "data": {
      "text/plain": [
       "       product_id                                       product_name  \\\n",
       "0               1                         Chocolate Sandwich Cookies   \n",
       "1               2                                   All-Seasons Salt   \n",
       "2               3               Robust Golden Unsweetened Oolong Tea   \n",
       "3               4  Smart Ones Classic Favorites Mini Rigatoni Wit...   \n",
       "4               5                          Green Chile Anytime Sauce   \n",
       "...           ...                                                ...   \n",
       "49683       49684          Vodka, Triple Distilled, Twist of Vanilla   \n",
       "49684       49685                 En Croute Roast Hazelnut Cranberry   \n",
       "49685       49686                                   Artisan Baguette   \n",
       "49686       49687         Smartblend Healthy Metabolism Dry Cat Food   \n",
       "49687       49688                             Fresh Foaming Cleanser   \n",
       "\n",
       "       aisle_id  department_id  \n",
       "0            61             19  \n",
       "1           104             13  \n",
       "2            94              7  \n",
       "3            38              1  \n",
       "4             5             13  \n",
       "...         ...            ...  \n",
       "49683       124              5  \n",
       "49684        42              1  \n",
       "49685       112              3  \n",
       "49686        41              8  \n",
       "49687        73             11  \n",
       "\n",
       "[49688 rows x 4 columns]"
      ],
      "text/html": [
       "<div>\n",
       "<style scoped>\n",
       "    .dataframe tbody tr th:only-of-type {\n",
       "        vertical-align: middle;\n",
       "    }\n",
       "\n",
       "    .dataframe tbody tr th {\n",
       "        vertical-align: top;\n",
       "    }\n",
       "\n",
       "    .dataframe thead th {\n",
       "        text-align: right;\n",
       "    }\n",
       "</style>\n",
       "<table border=\"1\" class=\"dataframe\">\n",
       "  <thead>\n",
       "    <tr style=\"text-align: right;\">\n",
       "      <th></th>\n",
       "      <th>product_id</th>\n",
       "      <th>product_name</th>\n",
       "      <th>aisle_id</th>\n",
       "      <th>department_id</th>\n",
       "    </tr>\n",
       "  </thead>\n",
       "  <tbody>\n",
       "    <tr>\n",
       "      <th>0</th>\n",
       "      <td>1</td>\n",
       "      <td>Chocolate Sandwich Cookies</td>\n",
       "      <td>61</td>\n",
       "      <td>19</td>\n",
       "    </tr>\n",
       "    <tr>\n",
       "      <th>1</th>\n",
       "      <td>2</td>\n",
       "      <td>All-Seasons Salt</td>\n",
       "      <td>104</td>\n",
       "      <td>13</td>\n",
       "    </tr>\n",
       "    <tr>\n",
       "      <th>2</th>\n",
       "      <td>3</td>\n",
       "      <td>Robust Golden Unsweetened Oolong Tea</td>\n",
       "      <td>94</td>\n",
       "      <td>7</td>\n",
       "    </tr>\n",
       "    <tr>\n",
       "      <th>3</th>\n",
       "      <td>4</td>\n",
       "      <td>Smart Ones Classic Favorites Mini Rigatoni Wit...</td>\n",
       "      <td>38</td>\n",
       "      <td>1</td>\n",
       "    </tr>\n",
       "    <tr>\n",
       "      <th>4</th>\n",
       "      <td>5</td>\n",
       "      <td>Green Chile Anytime Sauce</td>\n",
       "      <td>5</td>\n",
       "      <td>13</td>\n",
       "    </tr>\n",
       "    <tr>\n",
       "      <th>...</th>\n",
       "      <td>...</td>\n",
       "      <td>...</td>\n",
       "      <td>...</td>\n",
       "      <td>...</td>\n",
       "    </tr>\n",
       "    <tr>\n",
       "      <th>49683</th>\n",
       "      <td>49684</td>\n",
       "      <td>Vodka, Triple Distilled, Twist of Vanilla</td>\n",
       "      <td>124</td>\n",
       "      <td>5</td>\n",
       "    </tr>\n",
       "    <tr>\n",
       "      <th>49684</th>\n",
       "      <td>49685</td>\n",
       "      <td>En Croute Roast Hazelnut Cranberry</td>\n",
       "      <td>42</td>\n",
       "      <td>1</td>\n",
       "    </tr>\n",
       "    <tr>\n",
       "      <th>49685</th>\n",
       "      <td>49686</td>\n",
       "      <td>Artisan Baguette</td>\n",
       "      <td>112</td>\n",
       "      <td>3</td>\n",
       "    </tr>\n",
       "    <tr>\n",
       "      <th>49686</th>\n",
       "      <td>49687</td>\n",
       "      <td>Smartblend Healthy Metabolism Dry Cat Food</td>\n",
       "      <td>41</td>\n",
       "      <td>8</td>\n",
       "    </tr>\n",
       "    <tr>\n",
       "      <th>49687</th>\n",
       "      <td>49688</td>\n",
       "      <td>Fresh Foaming Cleanser</td>\n",
       "      <td>73</td>\n",
       "      <td>11</td>\n",
       "    </tr>\n",
       "  </tbody>\n",
       "</table>\n",
       "<p>49688 rows × 4 columns</p>\n",
       "</div>"
      ]
     },
     "execution_count": 5,
     "metadata": {},
     "output_type": "execute_result"
    }
   ],
   "execution_count": 5
  },
  {
   "cell_type": "code",
   "metadata": {
    "ExecuteTime": {
     "end_time": "2024-04-20T20:59:09.209854Z",
     "start_time": "2024-04-20T20:59:09.196951Z"
    }
   },
   "source": [
    "# Взаимодействия\n",
    "raw_order_products"
   ],
   "outputs": [
    {
     "data": {
      "text/plain": [
       "         order_id  product_id  add_to_cart_order  reordered\n",
       "0               2       33120                  1          1\n",
       "1               2       28985                  2          1\n",
       "2               2        9327                  3          0\n",
       "3               2       45918                  4          1\n",
       "4               2       30035                  5          0\n",
       "...           ...         ...                ...        ...\n",
       "1384612   3421063       14233                  3          1\n",
       "1384613   3421063       35548                  4          1\n",
       "1384614   3421070       35951                  1          1\n",
       "1384615   3421070       16953                  2          1\n",
       "1384616   3421070        4724                  3          1\n",
       "\n",
       "[33819106 rows x 4 columns]"
      ],
      "text/html": [
       "<div>\n",
       "<style scoped>\n",
       "    .dataframe tbody tr th:only-of-type {\n",
       "        vertical-align: middle;\n",
       "    }\n",
       "\n",
       "    .dataframe tbody tr th {\n",
       "        vertical-align: top;\n",
       "    }\n",
       "\n",
       "    .dataframe thead th {\n",
       "        text-align: right;\n",
       "    }\n",
       "</style>\n",
       "<table border=\"1\" class=\"dataframe\">\n",
       "  <thead>\n",
       "    <tr style=\"text-align: right;\">\n",
       "      <th></th>\n",
       "      <th>order_id</th>\n",
       "      <th>product_id</th>\n",
       "      <th>add_to_cart_order</th>\n",
       "      <th>reordered</th>\n",
       "    </tr>\n",
       "  </thead>\n",
       "  <tbody>\n",
       "    <tr>\n",
       "      <th>0</th>\n",
       "      <td>2</td>\n",
       "      <td>33120</td>\n",
       "      <td>1</td>\n",
       "      <td>1</td>\n",
       "    </tr>\n",
       "    <tr>\n",
       "      <th>1</th>\n",
       "      <td>2</td>\n",
       "      <td>28985</td>\n",
       "      <td>2</td>\n",
       "      <td>1</td>\n",
       "    </tr>\n",
       "    <tr>\n",
       "      <th>2</th>\n",
       "      <td>2</td>\n",
       "      <td>9327</td>\n",
       "      <td>3</td>\n",
       "      <td>0</td>\n",
       "    </tr>\n",
       "    <tr>\n",
       "      <th>3</th>\n",
       "      <td>2</td>\n",
       "      <td>45918</td>\n",
       "      <td>4</td>\n",
       "      <td>1</td>\n",
       "    </tr>\n",
       "    <tr>\n",
       "      <th>4</th>\n",
       "      <td>2</td>\n",
       "      <td>30035</td>\n",
       "      <td>5</td>\n",
       "      <td>0</td>\n",
       "    </tr>\n",
       "    <tr>\n",
       "      <th>...</th>\n",
       "      <td>...</td>\n",
       "      <td>...</td>\n",
       "      <td>...</td>\n",
       "      <td>...</td>\n",
       "    </tr>\n",
       "    <tr>\n",
       "      <th>1384612</th>\n",
       "      <td>3421063</td>\n",
       "      <td>14233</td>\n",
       "      <td>3</td>\n",
       "      <td>1</td>\n",
       "    </tr>\n",
       "    <tr>\n",
       "      <th>1384613</th>\n",
       "      <td>3421063</td>\n",
       "      <td>35548</td>\n",
       "      <td>4</td>\n",
       "      <td>1</td>\n",
       "    </tr>\n",
       "    <tr>\n",
       "      <th>1384614</th>\n",
       "      <td>3421070</td>\n",
       "      <td>35951</td>\n",
       "      <td>1</td>\n",
       "      <td>1</td>\n",
       "    </tr>\n",
       "    <tr>\n",
       "      <th>1384615</th>\n",
       "      <td>3421070</td>\n",
       "      <td>16953</td>\n",
       "      <td>2</td>\n",
       "      <td>1</td>\n",
       "    </tr>\n",
       "    <tr>\n",
       "      <th>1384616</th>\n",
       "      <td>3421070</td>\n",
       "      <td>4724</td>\n",
       "      <td>3</td>\n",
       "      <td>1</td>\n",
       "    </tr>\n",
       "  </tbody>\n",
       "</table>\n",
       "<p>33819106 rows × 4 columns</p>\n",
       "</div>"
      ]
     },
     "execution_count": 6,
     "metadata": {},
     "output_type": "execute_result"
    }
   ],
   "execution_count": 6
  },
  {
   "cell_type": "code",
   "metadata": {
    "ExecuteTime": {
     "end_time": "2024-04-20T20:59:09.612719Z",
     "start_time": "2024-04-20T20:59:09.211979Z"
    }
   },
   "source": [
    "# Подрежем количество продуктов, возьмем пока топ N продуктов\n",
    "top_products_count = 14\n",
    "top_popular_product_counts = raw_order_products.groupby('product_id').size().sort_values()[-top_products_count:].rename('count').to_frame().reset_index()\n",
    "top_popular_product_counts"
   ],
   "outputs": [
    {
     "data": {
      "text/plain": [
       "    product_id   count\n",
       "0        45007  109412\n",
       "1        24964  113936\n",
       "2        22935  117716\n",
       "3        27966  142603\n",
       "4        27845  142813\n",
       "5        26209  146660\n",
       "6        16797  149445\n",
       "7        47626  160792\n",
       "8        47766  184224\n",
       "9        47209  220877\n",
       "10       21903  251705\n",
       "11       21137  275577\n",
       "12       13176  394930\n",
       "13       24852  491291"
      ],
      "text/html": [
       "<div>\n",
       "<style scoped>\n",
       "    .dataframe tbody tr th:only-of-type {\n",
       "        vertical-align: middle;\n",
       "    }\n",
       "\n",
       "    .dataframe tbody tr th {\n",
       "        vertical-align: top;\n",
       "    }\n",
       "\n",
       "    .dataframe thead th {\n",
       "        text-align: right;\n",
       "    }\n",
       "</style>\n",
       "<table border=\"1\" class=\"dataframe\">\n",
       "  <thead>\n",
       "    <tr style=\"text-align: right;\">\n",
       "      <th></th>\n",
       "      <th>product_id</th>\n",
       "      <th>count</th>\n",
       "    </tr>\n",
       "  </thead>\n",
       "  <tbody>\n",
       "    <tr>\n",
       "      <th>0</th>\n",
       "      <td>45007</td>\n",
       "      <td>109412</td>\n",
       "    </tr>\n",
       "    <tr>\n",
       "      <th>1</th>\n",
       "      <td>24964</td>\n",
       "      <td>113936</td>\n",
       "    </tr>\n",
       "    <tr>\n",
       "      <th>2</th>\n",
       "      <td>22935</td>\n",
       "      <td>117716</td>\n",
       "    </tr>\n",
       "    <tr>\n",
       "      <th>3</th>\n",
       "      <td>27966</td>\n",
       "      <td>142603</td>\n",
       "    </tr>\n",
       "    <tr>\n",
       "      <th>4</th>\n",
       "      <td>27845</td>\n",
       "      <td>142813</td>\n",
       "    </tr>\n",
       "    <tr>\n",
       "      <th>5</th>\n",
       "      <td>26209</td>\n",
       "      <td>146660</td>\n",
       "    </tr>\n",
       "    <tr>\n",
       "      <th>6</th>\n",
       "      <td>16797</td>\n",
       "      <td>149445</td>\n",
       "    </tr>\n",
       "    <tr>\n",
       "      <th>7</th>\n",
       "      <td>47626</td>\n",
       "      <td>160792</td>\n",
       "    </tr>\n",
       "    <tr>\n",
       "      <th>8</th>\n",
       "      <td>47766</td>\n",
       "      <td>184224</td>\n",
       "    </tr>\n",
       "    <tr>\n",
       "      <th>9</th>\n",
       "      <td>47209</td>\n",
       "      <td>220877</td>\n",
       "    </tr>\n",
       "    <tr>\n",
       "      <th>10</th>\n",
       "      <td>21903</td>\n",
       "      <td>251705</td>\n",
       "    </tr>\n",
       "    <tr>\n",
       "      <th>11</th>\n",
       "      <td>21137</td>\n",
       "      <td>275577</td>\n",
       "    </tr>\n",
       "    <tr>\n",
       "      <th>12</th>\n",
       "      <td>13176</td>\n",
       "      <td>394930</td>\n",
       "    </tr>\n",
       "    <tr>\n",
       "      <th>13</th>\n",
       "      <td>24852</td>\n",
       "      <td>491291</td>\n",
       "    </tr>\n",
       "  </tbody>\n",
       "</table>\n",
       "</div>"
      ]
     },
     "execution_count": 7,
     "metadata": {},
     "output_type": "execute_result"
    }
   ],
   "execution_count": 7
  },
  {
   "cell_type": "code",
   "metadata": {
    "ExecuteTime": {
     "end_time": "2024-04-20T20:59:09.623610Z",
     "start_time": "2024-04-20T20:59:09.614048Z"
    }
   },
   "source": [
    "products = top_popular_product_counts.merge(raw_products, how='left', on='product_id')[['product_id', 'product_name']]\n",
    "# products[['product_id', 'aisle_id']].merge(aisles, how='left', on='aisle_id')[['product_id', 'aisle']]\n",
    "# products.to_csv(path.join(dataset_path, 'used_products.csv'), index=False)\n",
    "products"
   ],
   "outputs": [
    {
     "data": {
      "text/plain": [
       "    product_id            product_name\n",
       "0        45007        Organic Zucchini\n",
       "1        24964          Organic Garlic\n",
       "2        22935    Organic Yellow Onion\n",
       "3        27966     Organic Raspberries\n",
       "4        27845      Organic Whole Milk\n",
       "5        26209                   Limes\n",
       "6        16797            Strawberries\n",
       "7        47626             Large Lemon\n",
       "8        47766         Organic Avocado\n",
       "9        47209    Organic Hass Avocado\n",
       "10       21903    Organic Baby Spinach\n",
       "11       21137    Organic Strawberries\n",
       "12       13176  Bag of Organic Bananas\n",
       "13       24852                  Banana"
      ],
      "text/html": [
       "<div>\n",
       "<style scoped>\n",
       "    .dataframe tbody tr th:only-of-type {\n",
       "        vertical-align: middle;\n",
       "    }\n",
       "\n",
       "    .dataframe tbody tr th {\n",
       "        vertical-align: top;\n",
       "    }\n",
       "\n",
       "    .dataframe thead th {\n",
       "        text-align: right;\n",
       "    }\n",
       "</style>\n",
       "<table border=\"1\" class=\"dataframe\">\n",
       "  <thead>\n",
       "    <tr style=\"text-align: right;\">\n",
       "      <th></th>\n",
       "      <th>product_id</th>\n",
       "      <th>product_name</th>\n",
       "    </tr>\n",
       "  </thead>\n",
       "  <tbody>\n",
       "    <tr>\n",
       "      <th>0</th>\n",
       "      <td>45007</td>\n",
       "      <td>Organic Zucchini</td>\n",
       "    </tr>\n",
       "    <tr>\n",
       "      <th>1</th>\n",
       "      <td>24964</td>\n",
       "      <td>Organic Garlic</td>\n",
       "    </tr>\n",
       "    <tr>\n",
       "      <th>2</th>\n",
       "      <td>22935</td>\n",
       "      <td>Organic Yellow Onion</td>\n",
       "    </tr>\n",
       "    <tr>\n",
       "      <th>3</th>\n",
       "      <td>27966</td>\n",
       "      <td>Organic Raspberries</td>\n",
       "    </tr>\n",
       "    <tr>\n",
       "      <th>4</th>\n",
       "      <td>27845</td>\n",
       "      <td>Organic Whole Milk</td>\n",
       "    </tr>\n",
       "    <tr>\n",
       "      <th>5</th>\n",
       "      <td>26209</td>\n",
       "      <td>Limes</td>\n",
       "    </tr>\n",
       "    <tr>\n",
       "      <th>6</th>\n",
       "      <td>16797</td>\n",
       "      <td>Strawberries</td>\n",
       "    </tr>\n",
       "    <tr>\n",
       "      <th>7</th>\n",
       "      <td>47626</td>\n",
       "      <td>Large Lemon</td>\n",
       "    </tr>\n",
       "    <tr>\n",
       "      <th>8</th>\n",
       "      <td>47766</td>\n",
       "      <td>Organic Avocado</td>\n",
       "    </tr>\n",
       "    <tr>\n",
       "      <th>9</th>\n",
       "      <td>47209</td>\n",
       "      <td>Organic Hass Avocado</td>\n",
       "    </tr>\n",
       "    <tr>\n",
       "      <th>10</th>\n",
       "      <td>21903</td>\n",
       "      <td>Organic Baby Spinach</td>\n",
       "    </tr>\n",
       "    <tr>\n",
       "      <th>11</th>\n",
       "      <td>21137</td>\n",
       "      <td>Organic Strawberries</td>\n",
       "    </tr>\n",
       "    <tr>\n",
       "      <th>12</th>\n",
       "      <td>13176</td>\n",
       "      <td>Bag of Organic Bananas</td>\n",
       "    </tr>\n",
       "    <tr>\n",
       "      <th>13</th>\n",
       "      <td>24852</td>\n",
       "      <td>Banana</td>\n",
       "    </tr>\n",
       "  </tbody>\n",
       "</table>\n",
       "</div>"
      ]
     },
     "execution_count": 8,
     "metadata": {},
     "output_type": "execute_result"
    }
   ],
   "execution_count": 8
  },
  {
   "cell_type": "code",
   "metadata": {
    "ExecuteTime": {
     "end_time": "2024-04-20T20:59:11.604285Z",
     "start_time": "2024-04-20T20:59:09.624384Z"
    }
   },
   "source": [
    "order_products = products[['product_id']].merge(raw_order_products, how='left', on='product_id')\n",
    "order_products"
   ],
   "outputs": [
    {
     "data": {
      "text/plain": [
       "         product_id  order_id  add_to_cart_order  reordered\n",
       "0             45007       131                  6          1\n",
       "1             45007       162                  6          1\n",
       "2             45007       306                  3          1\n",
       "3             45007       317                  3          0\n",
       "4             45007       335                  8          0\n",
       "...             ...       ...                ...        ...\n",
       "2901976       24852   3419531                  2          1\n",
       "2901977       24852   3419542                  6          0\n",
       "2901978       24852   3419629                  5          1\n",
       "2901979       24852   3420088                  9          1\n",
       "2901980       24852   3420996                  1          1\n",
       "\n",
       "[2901981 rows x 4 columns]"
      ],
      "text/html": [
       "<div>\n",
       "<style scoped>\n",
       "    .dataframe tbody tr th:only-of-type {\n",
       "        vertical-align: middle;\n",
       "    }\n",
       "\n",
       "    .dataframe tbody tr th {\n",
       "        vertical-align: top;\n",
       "    }\n",
       "\n",
       "    .dataframe thead th {\n",
       "        text-align: right;\n",
       "    }\n",
       "</style>\n",
       "<table border=\"1\" class=\"dataframe\">\n",
       "  <thead>\n",
       "    <tr style=\"text-align: right;\">\n",
       "      <th></th>\n",
       "      <th>product_id</th>\n",
       "      <th>order_id</th>\n",
       "      <th>add_to_cart_order</th>\n",
       "      <th>reordered</th>\n",
       "    </tr>\n",
       "  </thead>\n",
       "  <tbody>\n",
       "    <tr>\n",
       "      <th>0</th>\n",
       "      <td>45007</td>\n",
       "      <td>131</td>\n",
       "      <td>6</td>\n",
       "      <td>1</td>\n",
       "    </tr>\n",
       "    <tr>\n",
       "      <th>1</th>\n",
       "      <td>45007</td>\n",
       "      <td>162</td>\n",
       "      <td>6</td>\n",
       "      <td>1</td>\n",
       "    </tr>\n",
       "    <tr>\n",
       "      <th>2</th>\n",
       "      <td>45007</td>\n",
       "      <td>306</td>\n",
       "      <td>3</td>\n",
       "      <td>1</td>\n",
       "    </tr>\n",
       "    <tr>\n",
       "      <th>3</th>\n",
       "      <td>45007</td>\n",
       "      <td>317</td>\n",
       "      <td>3</td>\n",
       "      <td>0</td>\n",
       "    </tr>\n",
       "    <tr>\n",
       "      <th>4</th>\n",
       "      <td>45007</td>\n",
       "      <td>335</td>\n",
       "      <td>8</td>\n",
       "      <td>0</td>\n",
       "    </tr>\n",
       "    <tr>\n",
       "      <th>...</th>\n",
       "      <td>...</td>\n",
       "      <td>...</td>\n",
       "      <td>...</td>\n",
       "      <td>...</td>\n",
       "    </tr>\n",
       "    <tr>\n",
       "      <th>2901976</th>\n",
       "      <td>24852</td>\n",
       "      <td>3419531</td>\n",
       "      <td>2</td>\n",
       "      <td>1</td>\n",
       "    </tr>\n",
       "    <tr>\n",
       "      <th>2901977</th>\n",
       "      <td>24852</td>\n",
       "      <td>3419542</td>\n",
       "      <td>6</td>\n",
       "      <td>0</td>\n",
       "    </tr>\n",
       "    <tr>\n",
       "      <th>2901978</th>\n",
       "      <td>24852</td>\n",
       "      <td>3419629</td>\n",
       "      <td>5</td>\n",
       "      <td>1</td>\n",
       "    </tr>\n",
       "    <tr>\n",
       "      <th>2901979</th>\n",
       "      <td>24852</td>\n",
       "      <td>3420088</td>\n",
       "      <td>9</td>\n",
       "      <td>1</td>\n",
       "    </tr>\n",
       "    <tr>\n",
       "      <th>2901980</th>\n",
       "      <td>24852</td>\n",
       "      <td>3420996</td>\n",
       "      <td>1</td>\n",
       "      <td>1</td>\n",
       "    </tr>\n",
       "  </tbody>\n",
       "</table>\n",
       "<p>2901981 rows × 4 columns</p>\n",
       "</div>"
      ]
     },
     "execution_count": 9,
     "metadata": {},
     "output_type": "execute_result"
    }
   ],
   "execution_count": 9
  },
  {
   "cell_type": "code",
   "metadata": {
    "ExecuteTime": {
     "end_time": "2024-04-20T20:59:12.040145Z",
     "start_time": "2024-04-20T20:59:11.605112Z"
    }
   },
   "source": [
    "orders = raw_orders[raw_orders['order_id'].isin(order_products['order_id'].unique())]\n",
    "orders"
   ],
   "outputs": [
    {
     "data": {
      "text/plain": [
       "         order_id  user_id eval_set  order_number  order_dow  \\\n",
       "1         2398795        1    prior             2          3   \n",
       "4          431534        1    prior             5          4   \n",
       "10        1187899        1    train            11          4   \n",
       "11        2168274        2    prior             1          2   \n",
       "12        1501582        2    prior             2          5   \n",
       "...           ...      ...      ...           ...        ...   \n",
       "3421078   2266710   206209    prior            10          5   \n",
       "3421079   1854736   206209    prior            11          4   \n",
       "3421080    626363   206209    prior            12          1   \n",
       "3421081   2977660   206209    prior            13          1   \n",
       "3421082    272231   206209    train            14          6   \n",
       "\n",
       "         order_hour_of_day  days_since_prior_order  \n",
       "1                        7                    15.0  \n",
       "4                       15                    28.0  \n",
       "10                       8                    14.0  \n",
       "11                      11                     NaN  \n",
       "12                      10                    10.0  \n",
       "...                    ...                     ...  \n",
       "3421078                 18                    29.0  \n",
       "3421079                 10                    30.0  \n",
       "3421080                 12                    18.0  \n",
       "3421081                 12                     7.0  \n",
       "3421082                 14                    30.0  \n",
       "\n",
       "[1683062 rows x 7 columns]"
      ],
      "text/html": [
       "<div>\n",
       "<style scoped>\n",
       "    .dataframe tbody tr th:only-of-type {\n",
       "        vertical-align: middle;\n",
       "    }\n",
       "\n",
       "    .dataframe tbody tr th {\n",
       "        vertical-align: top;\n",
       "    }\n",
       "\n",
       "    .dataframe thead th {\n",
       "        text-align: right;\n",
       "    }\n",
       "</style>\n",
       "<table border=\"1\" class=\"dataframe\">\n",
       "  <thead>\n",
       "    <tr style=\"text-align: right;\">\n",
       "      <th></th>\n",
       "      <th>order_id</th>\n",
       "      <th>user_id</th>\n",
       "      <th>eval_set</th>\n",
       "      <th>order_number</th>\n",
       "      <th>order_dow</th>\n",
       "      <th>order_hour_of_day</th>\n",
       "      <th>days_since_prior_order</th>\n",
       "    </tr>\n",
       "  </thead>\n",
       "  <tbody>\n",
       "    <tr>\n",
       "      <th>1</th>\n",
       "      <td>2398795</td>\n",
       "      <td>1</td>\n",
       "      <td>prior</td>\n",
       "      <td>2</td>\n",
       "      <td>3</td>\n",
       "      <td>7</td>\n",
       "      <td>15.0</td>\n",
       "    </tr>\n",
       "    <tr>\n",
       "      <th>4</th>\n",
       "      <td>431534</td>\n",
       "      <td>1</td>\n",
       "      <td>prior</td>\n",
       "      <td>5</td>\n",
       "      <td>4</td>\n",
       "      <td>15</td>\n",
       "      <td>28.0</td>\n",
       "    </tr>\n",
       "    <tr>\n",
       "      <th>10</th>\n",
       "      <td>1187899</td>\n",
       "      <td>1</td>\n",
       "      <td>train</td>\n",
       "      <td>11</td>\n",
       "      <td>4</td>\n",
       "      <td>8</td>\n",
       "      <td>14.0</td>\n",
       "    </tr>\n",
       "    <tr>\n",
       "      <th>11</th>\n",
       "      <td>2168274</td>\n",
       "      <td>2</td>\n",
       "      <td>prior</td>\n",
       "      <td>1</td>\n",
       "      <td>2</td>\n",
       "      <td>11</td>\n",
       "      <td>NaN</td>\n",
       "    </tr>\n",
       "    <tr>\n",
       "      <th>12</th>\n",
       "      <td>1501582</td>\n",
       "      <td>2</td>\n",
       "      <td>prior</td>\n",
       "      <td>2</td>\n",
       "      <td>5</td>\n",
       "      <td>10</td>\n",
       "      <td>10.0</td>\n",
       "    </tr>\n",
       "    <tr>\n",
       "      <th>...</th>\n",
       "      <td>...</td>\n",
       "      <td>...</td>\n",
       "      <td>...</td>\n",
       "      <td>...</td>\n",
       "      <td>...</td>\n",
       "      <td>...</td>\n",
       "      <td>...</td>\n",
       "    </tr>\n",
       "    <tr>\n",
       "      <th>3421078</th>\n",
       "      <td>2266710</td>\n",
       "      <td>206209</td>\n",
       "      <td>prior</td>\n",
       "      <td>10</td>\n",
       "      <td>5</td>\n",
       "      <td>18</td>\n",
       "      <td>29.0</td>\n",
       "    </tr>\n",
       "    <tr>\n",
       "      <th>3421079</th>\n",
       "      <td>1854736</td>\n",
       "      <td>206209</td>\n",
       "      <td>prior</td>\n",
       "      <td>11</td>\n",
       "      <td>4</td>\n",
       "      <td>10</td>\n",
       "      <td>30.0</td>\n",
       "    </tr>\n",
       "    <tr>\n",
       "      <th>3421080</th>\n",
       "      <td>626363</td>\n",
       "      <td>206209</td>\n",
       "      <td>prior</td>\n",
       "      <td>12</td>\n",
       "      <td>1</td>\n",
       "      <td>12</td>\n",
       "      <td>18.0</td>\n",
       "    </tr>\n",
       "    <tr>\n",
       "      <th>3421081</th>\n",
       "      <td>2977660</td>\n",
       "      <td>206209</td>\n",
       "      <td>prior</td>\n",
       "      <td>13</td>\n",
       "      <td>1</td>\n",
       "      <td>12</td>\n",
       "      <td>7.0</td>\n",
       "    </tr>\n",
       "    <tr>\n",
       "      <th>3421082</th>\n",
       "      <td>272231</td>\n",
       "      <td>206209</td>\n",
       "      <td>train</td>\n",
       "      <td>14</td>\n",
       "      <td>6</td>\n",
       "      <td>14</td>\n",
       "      <td>30.0</td>\n",
       "    </tr>\n",
       "  </tbody>\n",
       "</table>\n",
       "<p>1683062 rows × 7 columns</p>\n",
       "</div>"
      ]
     },
     "execution_count": 10,
     "metadata": {},
     "output_type": "execute_result"
    }
   ],
   "execution_count": 10
  },
  {
   "cell_type": "code",
   "metadata": {
    "ExecuteTime": {
     "end_time": "2024-04-20T20:59:12.100422Z",
     "start_time": "2024-04-20T20:59:12.041236Z"
    }
   },
   "source": [
    "user_ids = orders[\"user_id\"].unique()\n",
    "product_ids = products[\"product_id\"].unique()\n",
    "\n",
    "dataset = Dataset()\n",
    "dataset.fit(user_ids, product_ids)\n",
    "\n",
    "user_mappings = dataset.mapping()[0]\n",
    "item_mappings = dataset.mapping()[2]\n",
    "\n",
    "len(user_mappings), len(item_mappings), list(user_mappings.items())[:5]"
   ],
   "outputs": [
    {
     "data": {
      "text/plain": [
       "(169477, 14, [(1, 0), (2, 1), (3, 2), (6, 3), (7, 4)])"
      ]
     },
     "execution_count": 11,
     "metadata": {},
     "output_type": "execute_result"
    }
   ],
   "execution_count": 11
  },
  {
   "cell_type": "code",
   "metadata": {
    "ExecuteTime": {
     "end_time": "2024-04-20T20:59:12.110179Z",
     "start_time": "2024-04-20T20:59:12.101039Z"
    }
   },
   "source": [
    "# Обратная матрица взаимодействий\n",
    "inv_user_mappings = {v:k for k, v in user_mappings.items()}\n",
    "inv_item_mappings = {v:k for k, v in item_mappings.items()}\n",
    "list(inv_item_mappings.items())[:5]"
   ],
   "outputs": [
    {
     "data": {
      "text/plain": [
       "[(0, 45007), (1, 24964), (2, 22935), (3, 27966), (4, 27845)]"
      ]
     },
     "execution_count": 12,
     "metadata": {},
     "output_type": "execute_result"
    }
   ],
   "execution_count": 12
  },
  {
   "cell_type": "code",
   "metadata": {
    "ExecuteTime": {
     "end_time": "2024-04-20T20:59:13.666489Z",
     "start_time": "2024-04-20T20:59:12.110704Z"
    }
   },
   "source": [
    "# Создаем матрицу взаимодействий\n",
    "data = orders.merge(order_products, how='inner', on='order_id').groupby(['user_id', 'product_id']).size()\n",
    "data = data.to_frame().reset_index().rename(columns={0: 'weight'})\n",
    "interactions, weights = dataset.build_interactions(data[['user_id', 'product_id', 'weight']].values)\n",
    "interactions, weights"
   ],
   "outputs": [
    {
     "data": {
      "text/plain": [
       "(<169477x14 sparse matrix of type '<class 'numpy.int32'>'\n",
       " \twith 651269 stored elements in COOrdinate format>,\n",
       " <169477x14 sparse matrix of type '<class 'numpy.float32'>'\n",
       " \twith 651269 stored elements in COOrdinate format>)"
      ]
     },
     "execution_count": 13,
     "metadata": {},
     "output_type": "execute_result"
    }
   ],
   "execution_count": 13
  },
  {
   "cell_type": "code",
   "metadata": {
    "ExecuteTime": {
     "end_time": "2024-04-20T20:59:13.673274Z",
     "start_time": "2024-04-20T20:59:13.667103Z"
    }
   },
   "source": [
    "interactions.todense(), weights.todense()"
   ],
   "outputs": [
    {
     "data": {
      "text/plain": [
       "(matrix([[0, 0, 0, ..., 0, 1, 0],\n",
       "         [0, 0, 0, ..., 0, 1, 1],\n",
       "         [0, 0, 0, ..., 1, 0, 0],\n",
       "         ...,\n",
       "         [1, 0, 0, ..., 1, 1, 0],\n",
       "         [1, 1, 1, ..., 1, 1, 0],\n",
       "         [0, 0, 0, ..., 0, 1, 1]], dtype=int32),\n",
       " matrix([[ 0.,  0.,  0., ...,  0.,  2.,  0.],\n",
       "         [ 0.,  0.,  0., ...,  0.,  1.,  8.],\n",
       "         [ 0.,  0.,  0., ...,  1.,  0.,  0.],\n",
       "         ...,\n",
       "         [ 5.,  0.,  0., ...,  1.,  8.,  0.],\n",
       "         [ 5.,  5.,  7., ..., 15., 22.,  0.],\n",
       "         [ 0.,  0.,  0., ...,  0.,  6.,  5.]], dtype=float32))"
      ]
     },
     "execution_count": 14,
     "metadata": {},
     "output_type": "execute_result"
    }
   ],
   "execution_count": 14
  },
  {
   "cell_type": "code",
   "metadata": {
    "ExecuteTime": {
     "end_time": "2024-04-20T20:59:13.680067Z",
     "start_time": "2024-04-20T20:59:13.673978Z"
    }
   },
   "source": [
    "def evaluate_model(model):\n",
    "    train, test = random_train_test_split(interactions, test_percentage=0.2, random_state=42)\n",
    "\n",
    "    for metric in [precision_at_k, recall_at_k]:        \n",
    "        print(f\"{metric.__name__}:\")\n",
    "        print(f\"\\t- train: %.3f\" % metric(model, train, k=5).mean())\n",
    "        print(f\"\\t- test: %.3f\" % metric(model, test, k=5).mean())\n",
    "        print(f\"\\t- test new: %.3f\" % metric(model, test, train, k=5).mean())"
   ],
   "outputs": [],
   "execution_count": 15
  },
  {
   "cell_type": "code",
   "metadata": {
    "ExecuteTime": {
     "end_time": "2024-04-20T20:59:13.692053Z",
     "start_time": "2024-04-20T20:59:13.680690Z"
    }
   },
   "source": [
    "def objective(trial):\n",
    "\n",
    "    train, test = random_train_test_split(interactions, test_percentage=0.2, random_state=42)\n",
    "\n",
    "    param = {\n",
    "        'no_components': trial.suggest_int(\"no_components\", 5, 64),\n",
    "        \"learning_schedule\": trial.suggest_categorical(\"learning_schedule\", [\"adagrad\", \"adadelta\"]),\n",
    "        \"loss\":  trial.suggest_categorical(\"loss\", [\"bpr\", \"warp\", \"warp-kos\"]),\n",
    "        \"learning_rate\": trial.suggest_float(\"learning_rate\", 0.001, 1),\n",
    "        \"item_alpha\": trial.suggest_float(\"item_alpha\", 1e-10, 1e-06, log=True),\n",
    "        \"user_alpha\": trial.suggest_float(\"user_alpha\", 1e-10, 1e-06, log=True), \n",
    "        \"max_sampled\": trial.suggest_int(\"max_sampled\", 5, 15),\n",
    "    }\n",
    "    epochs = trial.suggest_int(\"epochs\", 20, 50)\n",
    "\n",
    "    model = LightFM(**param, random_state=123)\n",
    "    model.fit(train, epochs=epochs, verbose=True)\n",
    "\n",
    "    val_precision = precision_at_k(model, test, k=5).mean()\n",
    "\n",
    "    return val_precision\n",
    "\n",
    "if True:\n",
    "    best_params = {\n",
    "        'no_components': 5,\n",
    "        'learning_schedule': 'adagrad',\n",
    "        'loss': 'warp',\n",
    "        'learning_rate': 0.7510216830421954,\n",
    "        'item_alpha': 6.201256477126263e-09,\n",
    "        'user_alpha': 9.592173442318563e-09,\n",
    "        'max_sampled': 12,\n",
    "        'epochs': 46,\n",
    "    }\n",
    "    print(\"No learning\")\n",
    "    display(best_params)\n",
    "else:\n",
    "    study = optuna.create_study(direction=\"maximize\")\n",
    "    \n",
    "    study.enqueue_trial(params={\n",
    "        \"no_components\": 10, \n",
    "        \"learning_schedule\": 'adagrad', \n",
    "        \"loss\": 'warp',\n",
    "        \"learning_rate\": 0.5,\n",
    "        \"item_alpha\": 1e-9, \n",
    "        \"user_alpha\": 1e-8, \n",
    "        \"max_sampled\": 15,\n",
    "        \"epochs\": 30,\n",
    "    })\n",
    "    \n",
    "    study.optimize(objective, n_trials=50)\n",
    "    \n",
    "    best_params = study.best_params\n",
    "    for k, v in best_params.items():\n",
    "        print(k, \":\", v)\n",
    "    \n",
    "    display(optuna.importance.get_param_importances(study))"
   ],
   "outputs": [
    {
     "name": "stdout",
     "output_type": "stream",
     "text": [
      "No learning\n"
     ]
    },
    {
     "data": {
      "text/plain": [
       "{'no_components': 5,\n",
       " 'learning_schedule': 'adagrad',\n",
       " 'loss': 'warp',\n",
       " 'learning_rate': 0.7510216830421954,\n",
       " 'item_alpha': 6.201256477126263e-09,\n",
       " 'user_alpha': 9.592173442318563e-09,\n",
       " 'max_sampled': 12,\n",
       " 'epochs': 46}"
      ]
     },
     "metadata": {},
     "output_type": "display_data"
    }
   ],
   "execution_count": 16
  },
  {
   "cell_type": "code",
   "metadata": {
    "ExecuteTime": {
     "end_time": "2024-04-20T20:59:37.880465Z",
     "start_time": "2024-04-20T20:59:13.692584Z"
    }
   },
   "source": [
    "if 'epochs' in best_params:\n",
    "    num_epochs = best_params['epochs']\n",
    "    del best_params['epochs']\n",
    "\n",
    "model = LightFM(**best_params, random_state=123)\n",
    "\n",
    "model.fit(\n",
    "    interactions,\n",
    "    epochs=num_epochs,\n",
    "    verbose=True\n",
    ")\n",
    "\n",
    "evaluate_model(model)"
   ],
   "outputs": [
    {
     "name": "stderr",
     "output_type": "stream",
     "text": [
      "Epoch: 100%|██████████| 46/46 [00:23<00:00,  1.93it/s]\n"
     ]
    },
    {
     "name": "stdout",
     "output_type": "stream",
     "text": [
      "precision_at_k:\n",
      "\t- train: 0.503\n",
      "\t- test: 0.234\n",
      "\t- test new: 0.293\n",
      "recall_at_k:\n",
      "\t- train: 0.874\n",
      "\t- test: 0.819\n",
      "\t- test new: 0.980\n"
     ]
    }
   ],
   "execution_count": 17
  },
  {
   "cell_type": "code",
   "metadata": {
    "scrolled": true,
    "ExecuteTime": {
     "end_time": "2024-04-20T20:59:37.920919Z",
     "start_time": "2024-04-20T20:59:37.881117Z"
    }
   },
   "source": [
    "# Сравним с топ 5 рекомендацией\n",
    "# todo сделать подсчет метрики для новых пользователей\n",
    "\n",
    "k = 5\n",
    "static_prediction = top_popular_product_counts[-k:]['product_id']\n",
    "static_prediction_ind = list(map(lambda x: item_mappings[x], static_prediction))\n",
    "\n",
    "def static_precision_at_k(interactions, suppress_interactions=None):\n",
    "    interactions = interactions.copy()\n",
    "    interactions.data = np.isin(interactions.col, static_prediction_ind)\n",
    "    hit = np.squeeze(np.array(interactions.sum(axis=1)))\n",
    "    return hit / k\n",
    "\n",
    "def static_recall_at_k(interactions, suppress_interactions=None):\n",
    "    retrieved = np.squeeze(interactions.getnnz(axis=1))\n",
    "\n",
    "    interactions = interactions.copy()\n",
    "    interactions.data = np.isin(interactions.col, static_prediction_ind)\n",
    "    hit = np.squeeze(np.array(interactions.sum(axis=1)))\n",
    "\n",
    "    hit = hit[retrieved > 0]\n",
    "    retrieved = retrieved[retrieved > 0]\n",
    "\n",
    "    return hit / retrieved\n",
    "\n",
    "\n",
    "train, test = random_train_test_split(interactions, test_percentage=0.2, random_state=42)\n",
    "for metric in [static_precision_at_k, static_recall_at_k]:        \n",
    "    print(f\"{metric.__name__}:\")\n",
    "    print(f\"\\t- train: %.3f\" % metric(train).mean())\n",
    "    print(f\"\\t- test: %.3f\" % metric(test).mean())\n",
    "    # print(f\"\\t- test new: %.3f\" % metric(test, train).mean())"
   ],
   "outputs": [
    {
     "name": "stdout",
     "output_type": "stream",
     "text": [
      "static_precision_at_k:\n",
      "\t- train: 0.287\n",
      "\t- test: 0.072\n",
      "static_recall_at_k:\n",
      "\t- train: 0.510\n",
      "\t- test: 0.484\n"
     ]
    }
   ],
   "execution_count": 18
  },
  {
   "cell_type": "code",
   "metadata": {
    "ExecuteTime": {
     "end_time": "2024-04-20T21:03:24.982957Z",
     "start_time": "2024-04-20T21:03:24.972307Z"
    }
   },
   "source": [
    "# Пример инференса\n",
    "from inference.model import Model\n",
    "\n",
    "recs_model = Model(model, dataset)\n",
    "recs_product_ids = recs_model.get_recommendations(user_ids=1)\n",
    "recs_product_ids"
   ],
   "outputs": [
    {
     "data": {
      "text/plain": [
       "['Зеленые яблоки', 'Лимон', 'Авокадо', 'Замороженый шпинат', 'Молоко']"
      ]
     },
     "execution_count": 21,
     "metadata": {},
     "output_type": "execute_result"
    }
   ],
   "execution_count": 21
  },
  {
   "cell_type": "code",
   "metadata": {
    "ExecuteTime": {
     "end_time": "2024-04-20T21:03:35.091101Z",
     "start_time": "2024-04-20T21:03:29.693802Z"
    }
   },
   "source": [
    "%%timeit\n",
    "recs_model.get_recommendations(1)"
   ],
   "execution_count": 22,
   "outputs": [
    {
     "name": "stdout",
     "output_type": "stream",
     "text": [
      "66.2 µs ± 8.19 µs per loop (mean ± std. dev. of 7 runs, 10,000 loops each)\n"
     ]
    }
   ]
  },
  {
   "cell_type": "code",
   "metadata": {
    "ExecuteTime": {
     "end_time": "2024-04-20T21:03:35.109989Z",
     "start_time": "2024-04-20T21:03:35.092495Z"
    }
   },
   "source": [
    "recs = products[products['product_id'].isin(recs_product_ids)]\n",
    "recs"
   ],
   "outputs": [
    {
     "data": {
      "text/plain": [
       "Empty DataFrame\n",
       "Columns: [product_id, product_name]\n",
       "Index: []"
      ],
      "text/html": [
       "<div>\n",
       "<style scoped>\n",
       "    .dataframe tbody tr th:only-of-type {\n",
       "        vertical-align: middle;\n",
       "    }\n",
       "\n",
       "    .dataframe tbody tr th {\n",
       "        vertical-align: top;\n",
       "    }\n",
       "\n",
       "    .dataframe thead th {\n",
       "        text-align: right;\n",
       "    }\n",
       "</style>\n",
       "<table border=\"1\" class=\"dataframe\">\n",
       "  <thead>\n",
       "    <tr style=\"text-align: right;\">\n",
       "      <th></th>\n",
       "      <th>product_id</th>\n",
       "      <th>product_name</th>\n",
       "    </tr>\n",
       "  </thead>\n",
       "  <tbody>\n",
       "  </tbody>\n",
       "</table>\n",
       "</div>"
      ]
     },
     "execution_count": 23,
     "metadata": {},
     "output_type": "execute_result"
    }
   ],
   "execution_count": 23
  },
  {
   "cell_type": "code",
   "metadata": {
    "ExecuteTime": {
     "end_time": "2024-04-20T21:03:35.279014Z",
     "start_time": "2024-04-20T21:03:35.110884Z"
    }
   },
   "source": [
    "# Сохраним модель\n",
    "with open('../recommendation/0-0-1.pickle', 'wb') as file:\n",
    "    pickle.dump(recs_model, file, protocol=pickle.HIGHEST_PROTOCOL)"
   ],
   "outputs": [],
   "execution_count": 24
  },
  {
   "metadata": {},
   "cell_type": "code",
   "outputs": [],
   "execution_count": null,
   "source": ""
  }
 ],
 "metadata": {
  "kernelspec": {
   "display_name": "Python 3 (ipykernel)",
   "language": "python",
   "name": "python3"
  },
  "language_info": {
   "codemirror_mode": {
    "name": "ipython",
    "version": 3
   },
   "file_extension": ".py",
   "mimetype": "text/x-python",
   "name": "python",
   "nbconvert_exporter": "python",
   "pygments_lexer": "ipython3",
   "version": "3.10.12"
  }
 },
 "nbformat": 4,
 "nbformat_minor": 4
}
