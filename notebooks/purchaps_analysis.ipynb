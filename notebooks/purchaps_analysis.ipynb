{
 "cells": [
  {
   "cell_type": "code",
   "id": "initial_id",
   "metadata": {
    "collapsed": true,
    "ExecuteTime": {
     "end_time": "2024-05-14T19:39:20.499728Z",
     "start_time": "2024-05-14T19:39:20.421123Z"
    }
   },
   "source": [
    "import pandas as pd\n",
    "\n",
    "purchases = pd.read_csv('../data/instacart-market-basket-analysis/sned_purchases.csv', names=[\"id\", \"name\", \"count\", \"time\"])\n",
    "purchases"
   ],
   "outputs": [
    {
     "data": {
      "text/plain": [
       "          id                                               name  count  \\\n",
       "0          3  Молоко Простоквашино Отборное пастер 3,4-4,5% ...      1   \n",
       "1          3  Молоко Простоквашино Отборное пастер 3,4-4,5% ...      1   \n",
       "2          3  Молоко Простоквашино Отборное пастер 3,4-4,5% ...      2   \n",
       "3          3  Молоко Простоквашино Отборное пастер 3,4-4,5% ...      1   \n",
       "4          3  Молоко Простоквашино Отборное пастер 3,4-4,5% ...      1   \n",
       "...      ...                                                ...    ...   \n",
       "92791  31322              Игрушка для конструирования БронеДром      1   \n",
       "92792  31322              Игрушка для конструирования БронеДром      1   \n",
       "92793  31322              Игрушка для конструирования БронеДром      1   \n",
       "92794  31323                 Пиво Хугарден белое 4,9% 0,75л с/б      1   \n",
       "92795  31324  Горбуша холодного копчения Русское море кусочк...      1   \n",
       "\n",
       "                      time  \n",
       "0      27.04.2024 19:43:01  \n",
       "1      03.05.2024 19:17:13  \n",
       "2      12.04.2024 19:23:13  \n",
       "3      27.04.2024 19:25:57  \n",
       "4      19.04.2024 18:37:58  \n",
       "...                    ...  \n",
       "92791  06.05.2024 21:41:17  \n",
       "92792  06.05.2024 18:25:02  \n",
       "92793  06.05.2024 16:38:26  \n",
       "92794  07.05.2024 21:44:30  \n",
       "92795  07.05.2024 18:48:13  \n",
       "\n",
       "[92796 rows x 4 columns]"
      ],
      "text/html": [
       "<div>\n",
       "<style scoped>\n",
       "    .dataframe tbody tr th:only-of-type {\n",
       "        vertical-align: middle;\n",
       "    }\n",
       "\n",
       "    .dataframe tbody tr th {\n",
       "        vertical-align: top;\n",
       "    }\n",
       "\n",
       "    .dataframe thead th {\n",
       "        text-align: right;\n",
       "    }\n",
       "</style>\n",
       "<table border=\"1\" class=\"dataframe\">\n",
       "  <thead>\n",
       "    <tr style=\"text-align: right;\">\n",
       "      <th></th>\n",
       "      <th>id</th>\n",
       "      <th>name</th>\n",
       "      <th>count</th>\n",
       "      <th>time</th>\n",
       "    </tr>\n",
       "  </thead>\n",
       "  <tbody>\n",
       "    <tr>\n",
       "      <th>0</th>\n",
       "      <td>3</td>\n",
       "      <td>Молоко Простоквашино Отборное пастер 3,4-4,5% ...</td>\n",
       "      <td>1</td>\n",
       "      <td>27.04.2024 19:43:01</td>\n",
       "    </tr>\n",
       "    <tr>\n",
       "      <th>1</th>\n",
       "      <td>3</td>\n",
       "      <td>Молоко Простоквашино Отборное пастер 3,4-4,5% ...</td>\n",
       "      <td>1</td>\n",
       "      <td>03.05.2024 19:17:13</td>\n",
       "    </tr>\n",
       "    <tr>\n",
       "      <th>2</th>\n",
       "      <td>3</td>\n",
       "      <td>Молоко Простоквашино Отборное пастер 3,4-4,5% ...</td>\n",
       "      <td>2</td>\n",
       "      <td>12.04.2024 19:23:13</td>\n",
       "    </tr>\n",
       "    <tr>\n",
       "      <th>3</th>\n",
       "      <td>3</td>\n",
       "      <td>Молоко Простоквашино Отборное пастер 3,4-4,5% ...</td>\n",
       "      <td>1</td>\n",
       "      <td>27.04.2024 19:25:57</td>\n",
       "    </tr>\n",
       "    <tr>\n",
       "      <th>4</th>\n",
       "      <td>3</td>\n",
       "      <td>Молоко Простоквашино Отборное пастер 3,4-4,5% ...</td>\n",
       "      <td>1</td>\n",
       "      <td>19.04.2024 18:37:58</td>\n",
       "    </tr>\n",
       "    <tr>\n",
       "      <th>...</th>\n",
       "      <td>...</td>\n",
       "      <td>...</td>\n",
       "      <td>...</td>\n",
       "      <td>...</td>\n",
       "    </tr>\n",
       "    <tr>\n",
       "      <th>92791</th>\n",
       "      <td>31322</td>\n",
       "      <td>Игрушка для конструирования БронеДром</td>\n",
       "      <td>1</td>\n",
       "      <td>06.05.2024 21:41:17</td>\n",
       "    </tr>\n",
       "    <tr>\n",
       "      <th>92792</th>\n",
       "      <td>31322</td>\n",
       "      <td>Игрушка для конструирования БронеДром</td>\n",
       "      <td>1</td>\n",
       "      <td>06.05.2024 18:25:02</td>\n",
       "    </tr>\n",
       "    <tr>\n",
       "      <th>92793</th>\n",
       "      <td>31322</td>\n",
       "      <td>Игрушка для конструирования БронеДром</td>\n",
       "      <td>1</td>\n",
       "      <td>06.05.2024 16:38:26</td>\n",
       "    </tr>\n",
       "    <tr>\n",
       "      <th>92794</th>\n",
       "      <td>31323</td>\n",
       "      <td>Пиво Хугарден белое 4,9% 0,75л с/б</td>\n",
       "      <td>1</td>\n",
       "      <td>07.05.2024 21:44:30</td>\n",
       "    </tr>\n",
       "    <tr>\n",
       "      <th>92795</th>\n",
       "      <td>31324</td>\n",
       "      <td>Горбуша холодного копчения Русское море кусочк...</td>\n",
       "      <td>1</td>\n",
       "      <td>07.05.2024 18:48:13</td>\n",
       "    </tr>\n",
       "  </tbody>\n",
       "</table>\n",
       "<p>92796 rows × 4 columns</p>\n",
       "</div>"
      ]
     },
     "execution_count": 3,
     "metadata": {},
     "output_type": "execute_result"
    }
   ],
   "execution_count": 3
  },
  {
   "metadata": {
    "ExecuteTime": {
     "end_time": "2024-05-14T19:39:21.108197Z",
     "start_time": "2024-05-14T19:39:21.091305Z"
    }
   },
   "cell_type": "code",
   "source": "purchases[\"name\"].unique().size",
   "id": "8a91f46b342ac1e6",
   "outputs": [
    {
     "data": {
      "text/plain": [
       "4332"
      ]
     },
     "execution_count": 4,
     "metadata": {},
     "output_type": "execute_result"
    }
   ],
   "execution_count": 4
  },
  {
   "metadata": {
    "ExecuteTime": {
     "end_time": "2024-05-14T19:42:00.071792Z",
     "start_time": "2024-05-14T19:42:00.048638Z"
    }
   },
   "cell_type": "code",
   "source": "purchases[[\"name\", \"id\"]].value_counts().head(100)",
   "id": "55d478d455a176d8",
   "outputs": [
    {
     "data": {
      "text/plain": [
       "name                                                id   \n",
       "Пакет Авокадо                                       26989    5722\n",
       "Батон Нижегородский Нарезной  400г                  2624     1715\n",
       "Хлеб Дарницкий Нижегородский 650г                   14621    1650\n",
       "БАНАНЫ 1кг                                          2506      989\n",
       "ОГУРЦЫ КУРАЖ 1кг                                    2530      832\n",
       "                                                             ... \n",
       "ЛУК ЗЕЛЕНЫЙ Дубрава 50г                             10276     103\n",
       "Напиток газ. Добрый Кола 0,33л ж/б                  27921     103\n",
       "Семечки От Мартина отборные полосатые с солью 150г  21515     103\n",
       "ЯБЛОКИ \"ГЛОСТЕР\" 1кг                                2858      103\n",
       "Хлеб Ржаной заварной край в нарезке 300г            22064     103\n",
       "Name: count, Length: 100, dtype: int64"
      ]
     },
     "execution_count": 9,
     "metadata": {},
     "output_type": "execute_result"
    }
   ],
   "execution_count": 9
  },
  {
   "metadata": {},
   "cell_type": "code",
   "outputs": [],
   "execution_count": null,
   "source": "",
   "id": "873f1d088313bd17"
  }
 ],
 "metadata": {
  "kernelspec": {
   "display_name": "Python 3",
   "language": "python",
   "name": "python3"
  },
  "language_info": {
   "codemirror_mode": {
    "name": "ipython",
    "version": 2
   },
   "file_extension": ".py",
   "mimetype": "text/x-python",
   "name": "python",
   "nbconvert_exporter": "python",
   "pygments_lexer": "ipython2",
   "version": "2.7.6"
  }
 },
 "nbformat": 4,
 "nbformat_minor": 5
}
